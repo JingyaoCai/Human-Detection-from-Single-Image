{
 "cells": [
  {
   "cell_type": "markdown",
   "id": "51d18caf",
   "metadata": {},
   "source": [
    "# Workshop 6: Logistic Regression"
   ]
  },
  {
   "cell_type": "markdown",
   "id": "e20f5412-27c8-42b2-b47a-e8158585aa90",
   "metadata": {},
   "source": [
    "## 1. Linear Equation\n",
    "$$\\theta_1 x_1 + \\theta_2 x_2 + \\ldots + \\theta_n x_n$$"
   ]
  },
  {
   "cell_type": "code",
   "execution_count": null,
   "id": "31d4656e-54d3-49da-8541-331ead0abc07",
   "metadata": {},
   "outputs": [],
   "source": [
    "from matplotlib import pyplot as plt\n",
    "from sklearn.datasets import make_classification\n",
    "import numpy as np"
   ]
  },
  {
   "cell_type": "code",
   "execution_count": null,
   "id": "0c4e5e77-7399-4688-bee3-eeeb137652d7",
   "metadata": {},
   "outputs": [],
   "source": [
    "# Generate classification dataset\n",
    "x, y = make_classification(n_features=2, n_redundant=0, n_informative=1, n_clusters_per_class=1,random_state=2043)"
   ]
  },
  {
   "cell_type": "markdown",
   "id": "7d502961-d105-4625-b6f5-31484783a426",
   "metadata": {},
   "source": [
    "## 2. Logistic Regression\n",
    "### 2.1 Prediction function for logistic regression\n",
    "$$\n",
    "h_\\theta(x)=\\frac{1}{1+e^{-\\theta^T x}}\n",
    "$$\n",
    "\n",
    "This is the hypothetical function of logistic regression, also named as the prediction function.\n",
    "\n",
    "#### Exercise 1. Could you use `Matplotlib` library to draw the graphic of function\n",
    "$$\n",
    "h_\\theta(z)=\\frac{1}{1+e^{-z}}\n",
    "$$"
   ]
  },
  {
   "cell_type": "code",
   "execution_count": null,
   "id": "89c99735-ea9b-4d55-a6c6-e7928391c70e",
   "metadata": {},
   "outputs": [],
   "source": []
  },
  {
   "cell_type": "markdown",
   "id": "e5e14201-67f3-4992-88d5-c72a883354c7",
   "metadata": {},
   "source": [
    "### 2.2 Cost function\n",
    "$$\n",
    "\\begin{aligned}\n",
    "&J(\\theta)=\\frac{1}{m} \\sum_{i=1}^m \\operatorname{Cost}\\left(h_\\theta\\left(x^i\\right), y^i\\right) \\\\\n",
    "&=-\\frac{1}{m}\\left[\\sum_{i=1}^m y^i \\log h_\\theta\\left(x^i\\right)+\\left(1-y^i\\right) \\log \\left(1-h_\\theta\\left(x^i\\right)\\right)\\right]\n",
    "\\end{aligned}\n",
    "$$"
   ]
  },
  {
   "cell_type": "markdown",
   "id": "5eb2e7ac-c032-4bd1-bfe5-97fd9c685b4d",
   "metadata": {},
   "source": [
    "#### Exercise 2. Could you interpret the equation above to Python code?"
   ]
  },
  {
   "cell_type": "code",
   "execution_count": null,
   "id": "b954bb5c-6801-428f-9772-8cc0daf26fda",
   "metadata": {},
   "outputs": [],
   "source": []
  },
  {
   "cell_type": "markdown",
   "id": "1a62213f-e915-4cf3-b1ba-640124184270",
   "metadata": {},
   "source": [
    "### 2.3 Gradient Descent\n",
    "$$\n",
    "\\theta_j:=\\theta_j-\\alpha \\frac{1}{m} \\sum_{i=1}^m\\left(h_\\theta\\left(x^i\\right)-y^i\\right) x_j^i\n",
    "$$"
   ]
  },
  {
   "cell_type": "markdown",
   "id": "e735ec05-ec9c-4046-946d-5c2abf1a3305",
   "metadata": {},
   "source": [
    "#### Exercise 3. Complete the rest steps of logistic regression."
   ]
  },
  {
   "cell_type": "code",
   "execution_count": null,
   "id": "acdb6e71-a741-4efd-837e-6ce6a8f6c06d",
   "metadata": {},
   "outputs": [],
   "source": []
  }
 ],
 "metadata": {
  "kernelspec": {
   "display_name": "Python 3 (ipykernel)",
   "language": "python",
   "name": "python3"
  },
  "language_info": {
   "codemirror_mode": {
    "name": "ipython",
    "version": 3
   },
   "file_extension": ".py",
   "mimetype": "text/x-python",
   "name": "python",
   "nbconvert_exporter": "python",
   "pygments_lexer": "ipython3",
   "version": "3.8.11"
  }
 },
 "nbformat": 4,
 "nbformat_minor": 5
}
